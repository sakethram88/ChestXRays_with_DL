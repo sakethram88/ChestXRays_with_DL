{
  "nbformat": 4,
  "nbformat_minor": 0,
  "metadata": {
    "colab": {
      "name": "Chest_XRay_DL.ipynb",
      "provenance": [],
      "collapsed_sections": [],
      "toc_visible": true,
      "authorship_tag": "ABX9TyOp08HQ5aj6HAVDE5C9Y9vs"
    },
    "kernelspec": {
      "name": "python3",
      "display_name": "Python 3"
    },
    "accelerator": "GPU"
  },
  "cells": [
    {
      "cell_type": "markdown",
      "metadata": {
        "id": "LOL_7dF2EAJU",
        "colab_type": "text"
      },
      "source": [
        "# **Chest X-Ray Medical Diagnosis with Deep Learning**"
      ]
    },
    {
      "cell_type": "markdown",
      "metadata": {
        "id": "KGZC0kU19uzU",
        "colab_type": "text"
      },
      "source": [
        "This is a neural network to detect Atelectasis, Cardiomegaly, Consolidation, Edema, Effusion, Emphysema, Fibrosis, Hernia, Infiltration, Mass, Nodule, Pleural Thickening, Pneumonia and Pneumothorax in Chest X-Rays.\n",
        "The data used here is a subset of ChestX-ray8 dataset. The images have already been divided into training, development and test sets to avoid Data Leakage."
      ]
    },
    {
      "cell_type": "markdown",
      "metadata": {
        "id": "76UpOaVxBVLF",
        "colab_type": "text"
      },
      "source": [
        "## Let us import Packages \n",
        "For this neural network, we will make use of a pre-trained model DenseNet121 for transfer learning. "
      ]
    },
    {
      "cell_type": "code",
      "metadata": {
        "id": "Zu5GyUpVjFJ5",
        "colab_type": "code",
        "colab": {}
      },
      "source": [
        "%tensorflow_version 1.x"
      ],
      "execution_count": 6,
      "outputs": []
    },
    {
      "cell_type": "code",
      "metadata": {
        "id": "iEHaaDk0Beg5",
        "colab_type": "code",
        "colab": {}
      },
      "source": [
        "import numpy as np\n",
        "import pandas as pd\n",
        "import seaborn as sns\n",
        "import matplotlib.pyplot as plt\n",
        "\n",
        "from keras.preprocessing.image import ImageDataGenerator\n",
        "from keras.applications.densenet import DenseNet121\n",
        "from keras.layers import Dense, GlobalAveragePooling2D\n",
        "from keras.models import Model\n",
        "from keras import backend as K\n",
        "\n",
        "from keras.models import load_model\n"
      ],
      "execution_count": 9,
      "outputs": []
    },
    {
      "cell_type": "markdown",
      "metadata": {
        "id": "eic9BNp6AV8W",
        "colab_type": "text"
      },
      "source": [
        "## Then, let us import data which is in csv format"
      ]
    },
    {
      "cell_type": "code",
      "metadata": {
        "id": "c5UsdOiKAm4t",
        "colab_type": "code",
        "colab": {}
      },
      "source": [
        "train_df = pd.read_csv(\"/home/train.csv\")\n",
        "valid_df = pd.read_csv(\"/home/dev.csv\")\n",
        "test_df = pd.read_csv(\"/home/test.csv\")"
      ],
      "execution_count": 17,
      "outputs": []
    },
    {
      "cell_type": "markdown",
      "metadata": {
        "id": "9m5D0pd6DF7X",
        "colab_type": "text"
      },
      "source": [
        "Here is a sample of the csv file"
      ]
    },
    {
      "cell_type": "code",
      "metadata": {
        "id": "KyPVNhUVDK1b",
        "colab_type": "code",
        "colab": {
          "base_uri": "https://localhost:8080/",
          "height": 224
        },
        "outputId": "94eca04e-8ba9-44f9-eacd-6a3807d7b503"
      },
      "source": [
        "test_df.head()"
      ],
      "execution_count": 18,
      "outputs": [
        {
          "output_type": "execute_result",
          "data": {
            "text/html": [
              "<div>\n",
              "<style scoped>\n",
              "    .dataframe tbody tr th:only-of-type {\n",
              "        vertical-align: middle;\n",
              "    }\n",
              "\n",
              "    .dataframe tbody tr th {\n",
              "        vertical-align: top;\n",
              "    }\n",
              "\n",
              "    .dataframe thead th {\n",
              "        text-align: right;\n",
              "    }\n",
              "</style>\n",
              "<table border=\"1\" class=\"dataframe\">\n",
              "  <thead>\n",
              "    <tr style=\"text-align: right;\">\n",
              "      <th></th>\n",
              "      <th>Image</th>\n",
              "      <th>PatientId</th>\n",
              "      <th>Cardiomegaly</th>\n",
              "      <th>Emphysema</th>\n",
              "      <th>Effusion</th>\n",
              "      <th>Hernia</th>\n",
              "      <th>Infiltration</th>\n",
              "      <th>Mass</th>\n",
              "      <th>Nodule</th>\n",
              "      <th>Atelectasis</th>\n",
              "      <th>Pneumothorax</th>\n",
              "      <th>Pleural_Thickening</th>\n",
              "      <th>Pneumonia</th>\n",
              "      <th>Fibrosis</th>\n",
              "      <th>Edema</th>\n",
              "      <th>Consolidation</th>\n",
              "    </tr>\n",
              "  </thead>\n",
              "  <tbody>\n",
              "    <tr>\n",
              "      <th>0</th>\n",
              "      <td>00021463_005.png</td>\n",
              "      <td>21463</td>\n",
              "      <td>0</td>\n",
              "      <td>0</td>\n",
              "      <td>1</td>\n",
              "      <td>1</td>\n",
              "      <td>1</td>\n",
              "      <td>0</td>\n",
              "      <td>0</td>\n",
              "      <td>1</td>\n",
              "      <td>0</td>\n",
              "      <td>0</td>\n",
              "      <td>0</td>\n",
              "      <td>0</td>\n",
              "      <td>1</td>\n",
              "      <td>0</td>\n",
              "    </tr>\n",
              "    <tr>\n",
              "      <th>1</th>\n",
              "      <td>00019733_002.png</td>\n",
              "      <td>19733</td>\n",
              "      <td>0</td>\n",
              "      <td>0</td>\n",
              "      <td>0</td>\n",
              "      <td>1</td>\n",
              "      <td>0</td>\n",
              "      <td>0</td>\n",
              "      <td>0</td>\n",
              "      <td>1</td>\n",
              "      <td>0</td>\n",
              "      <td>0</td>\n",
              "      <td>0</td>\n",
              "      <td>0</td>\n",
              "      <td>0</td>\n",
              "      <td>0</td>\n",
              "    </tr>\n",
              "    <tr>\n",
              "      <th>2</th>\n",
              "      <td>00021463_001.png</td>\n",
              "      <td>21463</td>\n",
              "      <td>0</td>\n",
              "      <td>0</td>\n",
              "      <td>0</td>\n",
              "      <td>1</td>\n",
              "      <td>0</td>\n",
              "      <td>0</td>\n",
              "      <td>0</td>\n",
              "      <td>0</td>\n",
              "      <td>0</td>\n",
              "      <td>0</td>\n",
              "      <td>0</td>\n",
              "      <td>0</td>\n",
              "      <td>0</td>\n",
              "      <td>0</td>\n",
              "    </tr>\n",
              "    <tr>\n",
              "      <th>3</th>\n",
              "      <td>00017136_020.png</td>\n",
              "      <td>17136</td>\n",
              "      <td>0</td>\n",
              "      <td>0</td>\n",
              "      <td>0</td>\n",
              "      <td>1</td>\n",
              "      <td>0</td>\n",
              "      <td>0</td>\n",
              "      <td>0</td>\n",
              "      <td>0</td>\n",
              "      <td>0</td>\n",
              "      <td>0</td>\n",
              "      <td>0</td>\n",
              "      <td>0</td>\n",
              "      <td>0</td>\n",
              "      <td>0</td>\n",
              "    </tr>\n",
              "    <tr>\n",
              "      <th>4</th>\n",
              "      <td>00027477_000.png</td>\n",
              "      <td>27477</td>\n",
              "      <td>0</td>\n",
              "      <td>0</td>\n",
              "      <td>0</td>\n",
              "      <td>1</td>\n",
              "      <td>1</td>\n",
              "      <td>0</td>\n",
              "      <td>0</td>\n",
              "      <td>0</td>\n",
              "      <td>0</td>\n",
              "      <td>0</td>\n",
              "      <td>0</td>\n",
              "      <td>0</td>\n",
              "      <td>0</td>\n",
              "      <td>0</td>\n",
              "    </tr>\n",
              "  </tbody>\n",
              "</table>\n",
              "</div>"
            ],
            "text/plain": [
              "              Image  PatientId  Cardiomegaly  ...  Fibrosis  Edema  Consolidation\n",
              "0  00021463_005.png      21463             0  ...         0      1              0\n",
              "1  00019733_002.png      19733             0  ...         0      0              0\n",
              "2  00021463_001.png      21463             0  ...         0      0              0\n",
              "3  00017136_020.png      17136             0  ...         0      0              0\n",
              "4  00027477_000.png      27477             0  ...         0      0              0\n",
              "\n",
              "[5 rows x 16 columns]"
            ]
          },
          "metadata": {
            "tags": []
          },
          "execution_count": 18
        }
      ]
    },
    {
      "cell_type": "code",
      "metadata": {
        "id": "ANv2_O6lDVFc",
        "colab_type": "code",
        "colab": {}
      },
      "source": [
        "labels = ['Cardiomegaly', 'Emphysema', 'Effusion', 'Hernia', 'Infiltration', 'Mass', 'Nodule', 'Atelectasis','Pneumothorax','Pleural_Thickening', 'Pneumonia', 'Fibrosis', 'Edema', 'Consolidation']"
      ],
      "execution_count": 19,
      "outputs": []
    },
    {
      "cell_type": "markdown",
      "metadata": {
        "id": "nmtBGhG9FN1I",
        "colab_type": "text"
      },
      "source": [
        "## Let us now process the images\n",
        "Using the ImageDataGenerator class from Keras framework"
      ]
    },
    {
      "cell_type": "code",
      "metadata": {
        "id": "QDY1QvZkFi-j",
        "colab_type": "code",
        "colab": {}
      },
      "source": [
        "def get_train_generator(df, image_dir, x_col, y_cols, shuffle=True, batch_size=10, seed=1, target_w = 320, target_h = 320):         \n",
        "    \n",
        "    image_generator = ImageDataGenerator(\n",
        "        samplewise_center=True,\n",
        "        samplewise_std_normalization= True)\n",
        "    \n",
        "    generator = image_generator.flow_from_dataframe(\n",
        "            dataframe=df,\n",
        "            directory=image_dir,\n",
        "            x_col=x_col,\n",
        "            y_col=y_cols,\n",
        "            class_mode=\"raw\",\n",
        "            batch_size=batch_size,\n",
        "            shuffle=shuffle,\n",
        "            seed=seed,\n",
        "            target_size=(target_w,target_h))\n",
        "    \n",
        "    return generator"
      ],
      "execution_count": 20,
      "outputs": []
    },
    {
      "cell_type": "code",
      "metadata": {
        "id": "6mPX2KuoJTBQ",
        "colab_type": "code",
        "colab": {}
      },
      "source": [
        "def get_test_and_valid_generator(valid_df, test_df, train_df, image_dir, x_col, y_cols, sample_size=100, batch_size=8, seed=1, target_w = 320, target_h = 320):\n",
        "   \n",
        "    raw_train_generator = ImageDataGenerator().flow_from_dataframe(\n",
        "        dataframe=train_df, \n",
        "        directory=IMAGE_DIR, \n",
        "        x_col=\"Image\", \n",
        "        y_col=labels, \n",
        "        class_mode=\"raw\", \n",
        "        batch_size=sample_size, \n",
        "        shuffle=True, \n",
        "        target_size=(target_w, target_h))\n",
        "    \n",
        "    batch = raw_train_generator.next()\n",
        "    data_sample = batch[0]\n",
        "\n",
        "    image_generator = ImageDataGenerator(\n",
        "        featurewise_center=True,\n",
        "        featurewise_std_normalization= True)\n",
        "    \n",
        "    image_generator.fit(data_sample)\n",
        "\n",
        "    valid_generator = image_generator.flow_from_dataframe(\n",
        "            dataframe=valid_df,\n",
        "            directory=image_dir,\n",
        "            x_col=x_col,\n",
        "            y_col=y_cols,\n",
        "            class_mode=\"raw\",\n",
        "            batch_size=batch_size,\n",
        "            shuffle=False,\n",
        "            seed=seed,\n",
        "            target_size=(target_w,target_h))\n",
        "    test_generator = image_generator.flow_from_dataframe(\n",
        "            dataframe=test_df,\n",
        "            directory=image_dir,\n",
        "            x_col=x_col,\n",
        "            y_col=y_cols,\n",
        "            class_mode=\"raw\",\n",
        "            batch_size=batch_size,\n",
        "            shuffle=False,\n",
        "            seed=seed,\n",
        "            target_size=(target_w,target_h))\n",
        "    return valid_generator, test_generator"
      ],
      "execution_count": 37,
      "outputs": []
    },
    {
      "cell_type": "code",
      "metadata": {
        "id": "w2CZ0vGBJ6Ff",
        "colab_type": "code",
        "colab": {
          "base_uri": "https://localhost:8080/",
          "height": 85
        },
        "outputId": "ee2a8895-b767-4807-adae-47f8ddfe3927"
      },
      "source": [
        "IMAGE_DIR =\"/home/Images\"\n",
        "train_generator = get_train_generator(train_df, IMAGE_DIR, \"Image\", labels)\n",
        "valid_generator, test_generator= get_test_and_valid_generator(valid_df, test_df, train_df, IMAGE_DIR, \"Image\", labels)"
      ],
      "execution_count": 42,
      "outputs": [
        {
          "output_type": "stream",
          "text": [
            "Found 1000 validated image filenames.\n",
            "Found 1000 validated image filenames.\n",
            "Found 200 validated image filenames.\n",
            "Found 1000 validated image filenames.\n"
          ],
          "name": "stdout"
        }
      ]
    },
    {
      "cell_type": "markdown",
      "metadata": {
        "id": "TnJX49A_NRhT",
        "colab_type": "text"
      },
      "source": [
        "Let us look at one of the processed images now"
      ]
    },
    {
      "cell_type": "code",
      "metadata": {
        "id": "Z6EdTbKcKHM_",
        "colab_type": "code",
        "colab": {
          "base_uri": "https://localhost:8080/",
          "height": 286
        },
        "outputId": "f4c3a924-d2e9-4095-d692-755659765156"
      },
      "source": [
        "x, y = train_generator.__getitem__(5)\n",
        "plt.imshow(x[5]);"
      ],
      "execution_count": 24,
      "outputs": [
        {
          "output_type": "stream",
          "text": [
            "Clipping input data to the valid range for imshow with RGB data ([0..1] for floats or [0..255] for integers).\n"
          ],
          "name": "stderr"
        },
        {
          "output_type": "display_data",
          "data": {
            "image/png": "[encoded data removed]",
            "text/plain": [
              "<Figure size 432x288 with 1 Axes>"
            ]
          },
          "metadata": {
            "tags": [],
            "needs_background": "light"
          }
        }
      ]
    },
    {
      "cell_type": "markdown",
      "metadata": {
        "id": "-0wBJ6ZdNgg2",
        "colab_type": "text"
      },
      "source": [
        "# Now, we have to train the model"
      ]
    },
    {
      "cell_type": "markdown",
      "metadata": {
        "id": "4t0IdSk2Oq2Y",
        "colab_type": "text"
      },
      "source": [
        "Before we start training let us look at the number of samples of each class."
      ]
    },
    {
      "cell_type": "code",
      "metadata": {
        "id": "HeKtz4uZOzhp",
        "colab_type": "code",
        "colab": {
          "base_uri": "https://localhost:8080/",
          "height": 365
        },
        "outputId": "a817d010-ec47-4b8a-e914-3b004a21bf46"
      },
      "source": [
        "plt.xticks(rotation=90)\n",
        "plt.bar(x=labels, height=np.mean(train_generator.labels, axis=0))\n",
        "plt.title(\"Frequency of Each Disease\")\n",
        "plt.show()"
      ],
      "execution_count": 25,
      "outputs": [
        {
          "output_type": "display_data",
          "data": {
            "image/png": "[encoded data removed]",
            "text/plain": [
              "<Figure size 432x288 with 1 Axes>"
            ]
          },
          "metadata": {
            "tags": [],
            "needs_background": "light"
          }
        }
      ]
    },
    {
      "cell_type": "markdown",
      "metadata": {
        "id": "jGebaFIdduDd",
        "colab_type": "text"
      },
      "source": [
        "The contribution of each disease to the Loss Function is unequal."
      ]
    },
    {
      "cell_type": "code",
      "metadata": {
        "id": "CzMn3bgTO1F7",
        "colab_type": "code",
        "colab": {}
      },
      "source": [
        "def compute_class_freqs(labels):\n",
        "    \n",
        "    N = labels.shape[0]\n",
        "    \n",
        "    positive_frequencies = np.sum(labels, axis=0) / N\n",
        "    negative_frequencies = np.sum(labels==0, axis=0) / N\n",
        "    \n",
        "    return positive_frequencies, negative_frequencies\n"
      ],
      "execution_count": 26,
      "outputs": []
    },
    {
      "cell_type": "code",
      "metadata": {
        "id": "AOUPEWaqSolK",
        "colab_type": "code",
        "colab": {}
      },
      "source": [
        "freq_pos, freq_neg = compute_class_freqs(train_generator.labels)\n",
        "freq_pos"
      ],
      "execution_count": null,
      "outputs": []
    },
    {
      "cell_type": "code",
      "metadata": {
        "id": "gp1mCXyGdmDE",
        "colab_type": "code",
        "colab": {
          "base_uri": "https://localhost:8080/",
          "height": 363
        },
        "outputId": "91db2eac-5a99-4b30-8b98-f72d5cad9780"
      },
      "source": [
        "data = pd.DataFrame({\"Class\": labels, \"Label\": \"Positive\", \"Value\": freq_pos})\n",
        "data = data.append([{\"Class\": labels[l], \"Label\": \"Negative\", \"Value\": v} for l,v in enumerate(freq_neg)], ignore_index=True)\n",
        "plt.xticks(rotation=90)\n",
        "f = sns.barplot(x=\"Class\", y=\"Value\", hue=\"Label\" ,data=data)"
      ],
      "execution_count": 56,
      "outputs": [
        {
          "output_type": "display_data",
          "data": {
            "image/png": "[encoded data removed]",
            "text/plain": [
              "<Figure size 432x288 with 1 Axes>"
            ]
          },
          "metadata": {
            "tags": [],
            "needs_background": "light"
          }
        }
      ]
    },
    {
      "cell_type": "markdown",
      "metadata": {
        "id": "d88pXBEPQwqB",
        "colab_type": "text"
      },
      "source": [
        "Since there is a huge difference in contribution of positive and negative samples to the loss function, we cannot use a normal function like cross-entropy function. Instead, let's use the weighted loss function:\n",
        "$$\\mathcal{L}_{cross-entropy}^{w}(x) = - (w_{p} y \\log(f(x)) + w_{n}(1-y) \\log( 1 - f(x) ) ).$$"
      ]
    },
    {
      "cell_type": "code",
      "metadata": {
        "id": "mftmX7kDSwuU",
        "colab_type": "code",
        "colab": {}
      },
      "source": [
        "pos_weights = freq_neg\n",
        "neg_weights = freq_pos\n",
        "pos_contribution = freq_pos * pos_weights \n",
        "neg_contribution = freq_neg * neg_weights"
      ],
      "execution_count": 28,
      "outputs": []
    },
    {
      "cell_type": "code",
      "metadata": {
        "id": "GgqubX-NTQvw",
        "colab_type": "code",
        "colab": {
          "base_uri": "https://localhost:8080/",
          "height": 363
        },
        "outputId": "8c92aee1-0e12-4626-df7a-3442db841c14"
      },
      "source": [
        "data = pd.DataFrame({\"Class\": labels, \"Label\": \"Positive\", \"Value\": pos_contribution})\n",
        "data = data.append([{\"Class\": labels[l], \"Label\": \"Negative\", \"Value\": v} \n",
        "                        for l,v in enumerate(neg_contribution)], ignore_index=True)\n",
        "plt.xticks(rotation=90)\n",
        "sns.barplot(x=\"Class\", y=\"Value\", hue=\"Label\" ,data=data);"
      ],
      "execution_count": 29,
      "outputs": [
        {
          "output_type": "display_data",
          "data": {
            "image/png": "[encoded data removed]",
            "text/plain": [
              "<Figure size 432x288 with 1 Axes>"
            ]
          },
          "metadata": {
            "tags": [],
            "needs_background": "light"
          }
        }
      ]
    },
    {
      "cell_type": "markdown",
      "metadata": {
        "id": "HZ4FTgF_TZI-",
        "colab_type": "text"
      },
      "source": [
        "We can clearly see now that the negative and positive samples contribute equally to the loss function"
      ]
    },
    {
      "cell_type": "code",
      "metadata": {
        "id": "D8-qujlzTzn-",
        "colab_type": "code",
        "colab": {}
      },
      "source": [
        "def get_weighted_loss(pos_weights, neg_weights, epsilon=1e-7):\n",
        "\n",
        "    def weighted_loss(y_true, y_pred):\n",
        "        loss = 0.0\n",
        "        for i in range(len(pos_weights)): \n",
        "            loss += -1 * K.mean((pos_weights[i] * y_true[:, i] * K.log(y_pred[:, i] + epsilon) + \n",
        "                     neg_weights[i] * (1 - y_true[:, i]) * K.log(1 - y_pred[:, i] + epsilon)))\n",
        "        return loss\n",
        "        \n",
        "    return weighted_loss"
      ],
      "execution_count": 30,
      "outputs": []
    },
    {
      "cell_type": "markdown",
      "metadata": {
        "id": "h1aGqIVuWnFv",
        "colab_type": "text"
      },
      "source": [
        "Let us now use DenseNet121 to load convolutional layers. "
      ]
    },
    {
      "cell_type": "code",
      "metadata": {
        "id": "Fe79E8xQWzc-",
        "colab_type": "code",
        "colab": {}
      },
      "source": [
        "base_model = DenseNet121(weights='/home/densenet.hdf5', include_top=False)\n",
        "\n",
        "x = base_model.output\n",
        "\n",
        "x = GlobalAveragePooling2D()(x)\n",
        "\n",
        "predictions = Dense(len(labels), activation=\"sigmoid\")(x)\n",
        "\n",
        "model = Model(inputs=base_model.input, outputs=predictions)\n",
        "model.compile(optimizer='adam', loss=get_weighted_loss(pos_weights, neg_weights))"
      ],
      "execution_count": null,
      "outputs": []
    },
    {
      "cell_type": "markdown",
      "metadata": {
        "id": "SbkhEjiFXVP6",
        "colab_type": "text"
      },
      "source": [
        "### Training the model:"
      ]
    },
    {
      "cell_type": "code",
      "metadata": {
        "id": "A9tBk2VQXXK5",
        "colab_type": "code",
        "colab": {
          "base_uri": "https://localhost:8080/",
          "height": 1000
        },
        "outputId": "e8371ad4-87d7-46d3-96cc-89c91e3e0761"
      },
      "source": [
        "history = model.fit_generator(train_generator, \n",
        "                              validation_data=valid_generator,\n",
        "                              steps_per_epoch=100, \n",
        "                              validation_steps=25, \n",
        "                              epochs = 100)\n",
        "\n",
        "plt.plot(history.history['loss'])\n",
        "plt.ylabel(\"loss\")\n",
        "plt.xlabel(\"epoch\")\n",
        "plt.title(\"Training Loss Curve\")\n",
        "plt.show()"
      ],
      "execution_count": 34,
      "outputs": [
        {
          "output_type": "stream",
          "text": [
            "Epoch 1/100\n",
            "100/100 [==============================] - 36s 359ms/step - loss: 0.8655 - val_loss: 1.2184\n",
            "Epoch 2/100\n",
            "100/100 [==============================] - 33s 326ms/step - loss: 0.8555 - val_loss: 15.0264\n",
            "Epoch 3/100\n",
            "100/100 [==============================] - 32s 324ms/step - loss: 0.8913 - val_loss: 8.7213\n",
            "Epoch 4/100\n",
            "100/100 [==============================] - 33s 328ms/step - loss: 0.8689 - val_loss: 9.0522\n",
            "Epoch 5/100\n",
            "100/100 [==============================] - 33s 329ms/step - loss: 0.8447 - val_loss: 3.3552\n",
            "Epoch 6/100\n",
            "100/100 [==============================] - 32s 325ms/step - loss: 0.8606 - val_loss: 5.4403\n",
            "Epoch 7/100\n",
            "100/100 [==============================] - 33s 330ms/step - loss: 0.8302 - val_loss: 1.1901\n",
            "Epoch 8/100\n",
            "100/100 [==============================] - 33s 326ms/step - loss: 0.8405 - val_loss: 1.2406\n",
            "Epoch 9/100\n",
            "100/100 [==============================] - 33s 325ms/step - loss: 0.8318 - val_loss: 5.1093\n",
            "Epoch 10/100\n",
            "100/100 [==============================] - 33s 328ms/step - loss: 0.8165 - val_loss: 1.6905\n",
            "Epoch 11/100\n",
            "100/100 [==============================] - 33s 330ms/step - loss: 0.8080 - val_loss: 1.8919\n",
            "Epoch 12/100\n",
            "100/100 [==============================] - 33s 325ms/step - loss: 0.8070 - val_loss: 1.7180\n",
            "Epoch 13/100\n",
            "100/100 [==============================] - 33s 327ms/step - loss: 0.8384 - val_loss: 4.3925\n",
            "Epoch 14/100\n",
            "100/100 [==============================] - 33s 326ms/step - loss: 0.7989 - val_loss: 1.1108\n",
            "Epoch 15/100\n",
            "100/100 [==============================] - 33s 326ms/step - loss: 0.7973 - val_loss: 1.0485\n",
            "Epoch 16/100\n",
            "100/100 [==============================] - 33s 329ms/step - loss: 0.7961 - val_loss: 1.3445\n",
            "Epoch 17/100\n",
            "100/100 [==============================] - 33s 330ms/step - loss: 0.8089 - val_loss: 1.2865\n",
            "Epoch 18/100\n",
            "100/100 [==============================] - 33s 327ms/step - loss: 0.8074 - val_loss: 1.9140\n",
            "Epoch 19/100\n",
            "100/100 [==============================] - 33s 326ms/step - loss: 0.7979 - val_loss: 1.1788\n",
            "Epoch 20/100\n",
            "100/100 [==============================] - 33s 327ms/step - loss: 0.7889 - val_loss: 1.1474\n",
            "Epoch 21/100\n",
            "100/100 [==============================] - 32s 325ms/step - loss: 0.7722 - val_loss: 2.3987\n",
            "Epoch 22/100\n",
            "100/100 [==============================] - 33s 328ms/step - loss: 0.7609 - val_loss: 1.0736\n",
            "Epoch 23/100\n",
            "100/100 [==============================] - 33s 326ms/step - loss: 0.7591 - val_loss: 1.1607\n",
            "Epoch 24/100\n",
            "100/100 [==============================] - 33s 327ms/step - loss: 0.7687 - val_loss: 1.7814\n",
            "Epoch 25/100\n",
            "100/100 [==============================] - 33s 327ms/step - loss: 0.7502 - val_loss: 1.1243\n",
            "Epoch 26/100\n",
            "100/100 [==============================] - 33s 326ms/step - loss: 0.7544 - val_loss: 1.5262\n",
            "Epoch 27/100\n",
            "100/100 [==============================] - 33s 326ms/step - loss: 0.7448 - val_loss: 1.5129\n",
            "Epoch 28/100\n",
            "100/100 [==============================] - 33s 325ms/step - loss: 0.7409 - val_loss: 2.1105\n",
            "Epoch 29/100\n",
            "100/100 [==============================] - 33s 326ms/step - loss: 0.7195 - val_loss: 2.2266\n",
            "Epoch 30/100\n",
            "100/100 [==============================] - 33s 325ms/step - loss: 0.7147 - val_loss: 1.8984\n",
            "Epoch 31/100\n",
            "100/100 [==============================] - 33s 327ms/step - loss: 0.7116 - val_loss: 1.2926\n",
            "Epoch 32/100\n",
            "100/100 [==============================] - 32s 324ms/step - loss: 0.6788 - val_loss: 1.4370\n",
            "Epoch 33/100\n",
            "100/100 [==============================] - 33s 326ms/step - loss: 0.7145 - val_loss: 2.0500\n",
            "Epoch 34/100\n",
            "100/100 [==============================] - 33s 331ms/step - loss: 0.6765 - val_loss: 1.5571\n",
            "Epoch 35/100\n",
            "100/100 [==============================] - 33s 329ms/step - loss: 0.6660 - val_loss: 1.6968\n",
            "Epoch 36/100\n",
            "100/100 [==============================] - 33s 329ms/step - loss: 0.6514 - val_loss: 1.1249\n",
            "Epoch 37/100\n",
            "100/100 [==============================] - 33s 328ms/step - loss: 0.6616 - val_loss: 1.8037\n",
            "Epoch 38/100\n",
            "100/100 [==============================] - 33s 328ms/step - loss: 0.6416 - val_loss: 2.0458\n",
            "Epoch 39/100\n",
            "100/100 [==============================] - 33s 328ms/step - loss: 0.6289 - val_loss: 1.9818\n",
            "Epoch 40/100\n",
            "100/100 [==============================] - 32s 325ms/step - loss: 0.6155 - val_loss: 1.0562\n",
            "Epoch 41/100\n",
            "100/100 [==============================] - 33s 326ms/step - loss: 0.5918 - val_loss: 1.7130\n",
            "Epoch 42/100\n",
            "100/100 [==============================] - 33s 326ms/step - loss: 0.5861 - val_loss: 1.5849\n",
            "Epoch 43/100\n",
            "100/100 [==============================] - 33s 326ms/step - loss: 0.5661 - val_loss: 1.9598\n",
            "Epoch 44/100\n",
            "100/100 [==============================] - 33s 326ms/step - loss: 0.5673 - val_loss: 2.1999\n",
            "Epoch 45/100\n",
            "100/100 [==============================] - 33s 329ms/step - loss: 0.5260 - val_loss: 2.5001\n",
            "Epoch 46/100\n",
            "100/100 [==============================] - 33s 326ms/step - loss: 0.5600 - val_loss: 1.4458\n",
            "Epoch 47/100\n",
            "100/100 [==============================] - 33s 329ms/step - loss: 0.4848 - val_loss: 2.3879\n",
            "Epoch 48/100\n",
            "100/100 [==============================] - 33s 328ms/step - loss: 0.4744 - val_loss: 1.8851\n",
            "Epoch 49/100\n",
            "100/100 [==============================] - 33s 328ms/step - loss: 0.4499 - val_loss: 4.4316\n",
            "Epoch 50/100\n",
            "100/100 [==============================] - 32s 325ms/step - loss: 0.4548 - val_loss: 1.0546\n",
            "Epoch 51/100\n",
            "100/100 [==============================] - 32s 324ms/step - loss: 0.4223 - val_loss: 1.6416\n",
            "Epoch 52/100\n",
            "100/100 [==============================] - 33s 325ms/step - loss: 0.3648 - val_loss: 0.9746\n",
            "Epoch 53/100\n",
            "100/100 [==============================] - 33s 327ms/step - loss: 0.3611 - val_loss: 2.0872\n",
            "Epoch 54/100\n",
            "100/100 [==============================] - 33s 327ms/step - loss: 0.3364 - val_loss: 2.4080\n",
            "Epoch 55/100\n",
            "100/100 [==============================] - 33s 327ms/step - loss: 0.3072 - val_loss: 1.2661\n",
            "Epoch 56/100\n",
            "100/100 [==============================] - 33s 328ms/step - loss: 0.2645 - val_loss: 2.1854\n",
            "Epoch 57/100\n",
            "100/100 [==============================] - 33s 330ms/step - loss: 0.2198 - val_loss: 2.7689\n",
            "Epoch 58/100\n",
            "100/100 [==============================] - 33s 326ms/step - loss: 0.2551 - val_loss: 1.5791\n",
            "Epoch 59/100\n",
            "100/100 [==============================] - 32s 325ms/step - loss: 0.1930 - val_loss: 2.0234\n",
            "Epoch 60/100\n",
            "100/100 [==============================] - 32s 324ms/step - loss: 0.1777 - val_loss: 1.1431\n",
            "Epoch 61/100\n",
            "100/100 [==============================] - 32s 324ms/step - loss: 0.1744 - val_loss: 2.0226\n",
            "Epoch 62/100\n",
            "100/100 [==============================] - 33s 326ms/step - loss: 0.1873 - val_loss: 4.0263\n",
            "Epoch 63/100\n",
            "100/100 [==============================] - 33s 325ms/step - loss: 0.1648 - val_loss: 2.1078\n",
            "Epoch 64/100\n",
            "100/100 [==============================] - 33s 327ms/step - loss: 0.1524 - val_loss: 3.0207\n",
            "Epoch 65/100\n",
            "100/100 [==============================] - 32s 325ms/step - loss: 0.1440 - val_loss: 2.5279\n",
            "Epoch 66/100\n",
            "100/100 [==============================] - 33s 326ms/step - loss: 0.0846 - val_loss: 1.7298\n",
            "Epoch 67/100\n",
            "100/100 [==============================] - 33s 327ms/step - loss: 0.0837 - val_loss: 1.1073\n",
            "Epoch 68/100\n",
            "100/100 [==============================] - 33s 326ms/step - loss: 0.1806 - val_loss: 2.8155\n",
            "Epoch 69/100\n",
            "100/100 [==============================] - 33s 327ms/step - loss: 0.1170 - val_loss: 3.4770\n",
            "Epoch 70/100\n",
            "100/100 [==============================] - 33s 328ms/step - loss: 0.1184 - val_loss: 1.9324\n",
            "Epoch 71/100\n",
            "100/100 [==============================] - 32s 324ms/step - loss: 0.1190 - val_loss: 1.9239\n",
            "Epoch 72/100\n",
            "100/100 [==============================] - 32s 325ms/step - loss: 0.1101 - val_loss: 2.9085\n",
            "Epoch 73/100\n",
            "100/100 [==============================] - 33s 327ms/step - loss: 0.0843 - val_loss: 2.7480\n",
            "Epoch 74/100\n",
            "100/100 [==============================] - 33s 328ms/step - loss: 0.0735 - val_loss: 1.2247\n",
            "Epoch 75/100\n",
            "100/100 [==============================] - 33s 327ms/step - loss: 0.0487 - val_loss: 1.3421\n",
            "Epoch 76/100\n",
            "100/100 [==============================] - 33s 326ms/step - loss: 0.1470 - val_loss: 4.4474\n",
            "Epoch 77/100\n",
            "100/100 [==============================] - 33s 327ms/step - loss: 0.1252 - val_loss: 2.0347\n",
            "Epoch 78/100\n",
            "100/100 [==============================] - 32s 323ms/step - loss: 0.0844 - val_loss: 1.8128\n",
            "Epoch 79/100\n",
            "100/100 [==============================] - 33s 327ms/step - loss: 0.0615 - val_loss: 2.0478\n",
            "Epoch 80/100\n",
            "100/100 [==============================] - 33s 325ms/step - loss: 0.0901 - val_loss: 1.5984\n",
            "Epoch 81/100\n",
            "100/100 [==============================] - 33s 327ms/step - loss: 0.0997 - val_loss: 3.3765\n",
            "Epoch 82/100\n",
            "100/100 [==============================] - 33s 327ms/step - loss: 0.0669 - val_loss: 1.2521\n",
            "Epoch 83/100\n",
            "100/100 [==============================] - 32s 325ms/step - loss: 0.0706 - val_loss: 1.8686\n",
            "Epoch 84/100\n",
            "100/100 [==============================] - 33s 326ms/step - loss: 0.1103 - val_loss: 1.8154\n",
            "Epoch 85/100\n",
            "100/100 [==============================] - 33s 326ms/step - loss: 0.0970 - val_loss: 2.2783\n",
            "Epoch 86/100\n",
            "100/100 [==============================] - 33s 325ms/step - loss: 0.0328 - val_loss: 1.6075\n",
            "Epoch 87/100\n",
            "100/100 [==============================] - 33s 326ms/step - loss: 0.0321 - val_loss: 2.4162\n",
            "Epoch 88/100\n",
            "100/100 [==============================] - 33s 326ms/step - loss: 0.0443 - val_loss: 2.3045\n",
            "Epoch 89/100\n",
            "100/100 [==============================] - 32s 325ms/step - loss: 0.1324 - val_loss: 3.6400\n",
            "Epoch 90/100\n",
            "100/100 [==============================] - 33s 325ms/step - loss: 0.0654 - val_loss: 4.5180\n",
            "Epoch 91/100\n",
            "100/100 [==============================] - 33s 330ms/step - loss: 0.0502 - val_loss: 2.8402\n",
            "Epoch 92/100\n",
            "100/100 [==============================] - 33s 325ms/step - loss: 0.0313 - val_loss: 2.0697\n",
            "Epoch 93/100\n",
            "100/100 [==============================] - 33s 327ms/step - loss: 0.0467 - val_loss: 3.1450\n",
            "Epoch 94/100\n",
            "100/100 [==============================] - 33s 326ms/step - loss: 0.0300 - val_loss: 2.8241\n",
            "Epoch 95/100\n",
            "100/100 [==============================] - 33s 327ms/step - loss: 0.0333 - val_loss: 2.5421\n",
            "Epoch 96/100\n",
            "100/100 [==============================] - 32s 322ms/step - loss: 0.0256 - val_loss: 2.6096\n",
            "Epoch 97/100\n",
            "100/100 [==============================] - 33s 326ms/step - loss: 0.0656 - val_loss: 3.4947\n",
            "Epoch 98/100\n",
            "100/100 [==============================] - 33s 327ms/step - loss: 0.0858 - val_loss: 4.1044\n",
            "Epoch 99/100\n",
            "100/100 [==============================] - 33s 325ms/step - loss: 0.1455 - val_loss: 3.6293\n",
            "Epoch 100/100\n",
            "100/100 [==============================] - 33s 325ms/step - loss: 0.1012 - val_loss: 3.4426\n"
          ],
          "name": "stdout"
        },
        {
          "output_type": "display_data",
          "data": {
            "image/png": "[encoded data removed]",
            "text/plain": [
              "<Figure size 432x288 with 1 Axes>"
            ]
          },
          "metadata": {
            "tags": [],
            "needs_background": "light"
          }
        }
      ]
    },
    {
      "cell_type": "markdown",
      "metadata": {
        "id": "loSXmnobfKEK",
        "colab_type": "text"
      },
      "source": [
        "I ran the model for a total of 100 epochs which took me about 55 minutes."
      ]
    },
    {
      "cell_type": "markdown",
      "metadata": {
        "id": "IdullgdPer7T",
        "colab_type": "text"
      },
      "source": [
        "### Let us now calculate the accuracy of the model"
      ]
    },
    {
      "cell_type": "code",
      "metadata": {
        "id": "mvnk9hrv8qod",
        "colab_type": "code",
        "colab": {}
      },
      "source": [
        "accuracy=model.evaluate_generator(test_generator,steps=len(test_generator))"
      ],
      "execution_count": 54,
      "outputs": []
    },
    {
      "cell_type": "code",
      "metadata": {
        "id": "V34U6nvNFN8j",
        "colab_type": "code",
        "colab": {
          "base_uri": "https://localhost:8080/",
          "height": 34
        },
        "outputId": "7b0c6050-7e69-47e0-e305-fb75d21cdf59"
      },
      "source": [
        "print(\"Accuracy=\", accuracy)"
      ],
      "execution_count": 55,
      "outputs": [
        {
          "output_type": "stream",
          "text": [
            "Accuracy= 0.9643886685371399\n"
          ],
          "name": "stdout"
        }
      ]
    },
    {
      "cell_type": "markdown",
      "metadata": {
        "id": "Gp_9AQ5Xe1VZ",
        "colab_type": "text"
      },
      "source": [
        "# The model has an accuracy of 96.438%!"
      ]
    }
  ]
}